{
 "cells": [
  {
   "cell_type": "markdown",
   "metadata": {},
   "source": [
    "# Generative Adversarial Network"
   ]
  },
  {
   "cell_type": "markdown",
   "metadata": {},
   "source": [
    "## Pre-processing data"
   ]
  },
  {
   "cell_type": "code",
   "execution_count": 38,
   "metadata": {},
   "outputs": [],
   "source": [
    "import tensorflow as tf\n",
    "import numpy as np\n",
    "from IPython.display import Image\n",
    "import matplotlib.image as mpimg\n",
    "import matplotlib.pyplot as plt\n",
    "import os\n",
    "import cv2\n",
    "tf.reset_default_graph()"
   ]
  },
  {
   "cell_type": "code",
   "execution_count": 16,
   "metadata": {},
   "outputs": [
    {
     "data": {
      "image/jpeg": "[encoded data removed]",
      "text/plain": [
       "<IPython.core.display.Image object>"
      ]
     },
     "execution_count": 16,
     "metadata": {},
     "output_type": "execute_result"
    }
   ],
   "source": [
    "Image(\"img_align_celeba/000214.jpg\") "
   ]
  },
  {
   "cell_type": "code",
   "execution_count": 39,
   "metadata": {},
   "outputs": [],
   "source": [
    "    \n",
    "## Here we will get the 100 000 first images and put them in a variable 178*218*3\n",
    "data_size = 25001\n",
    "def get_data(data_size=25001):\n",
    "        dataset = []\n",
    "        for x in range(1, data_size):\n",
    "            imgname = \"img_align_celeba_64/\"\n",
    "            imgname += str(x) + \".jpg\"\n",
    "            dataset.append(mpimg.imread(imgname))\n",
    "        dataset =  np.array(dataset)\n",
    "        return dataset\n",
    "    \n",
    "def get_data_normalized(data_size=25001):\n",
    "        dataset = []\n",
    "        for x in range(1, data_size):\n",
    "            imgname = \"img_align_celeba_64/\" + str(x).zfill(6) + \".jpg\"\n",
    "            dataset.append(mpimg.imread(imgname))\n",
    "        dataset =  np.array(dataset)/255.0\n",
    "        ## HSV\n",
    "        #hsv = cv2.cvtColor(mpimg.imread(imgname), cv2.COLOR_BGR2HSV)\n",
    "        #dataset.append(hsv)\n",
    "        #dataset =  np.array(dataset)/255.\n",
    "        print(\"Data loaded. Number of images: \" + str(data_size))\n",
    "        return dataset\n",
    "        \n",
    "def get_batch(batch_size, dataset):\n",
    "        indexes = np.random.randint(0, len(dataset), batch_size)\n",
    "        data = dataset[indexes]\n",
    "        return data\n",
    "\n",
    "def sample_Z(batch_size=50, n=100):\n",
    "        return np.random.uniform(-1., 1., size=[batch_size, n])"
   ]
  },
  {
   "cell_type": "code",
   "execution_count": 40,
   "metadata": {},
   "outputs": [],
   "source": [
    "\n",
    "## HSV print image\n",
    "#dat = get_data_normalized(5)\n",
    "\n",
    "#dat = (dat * 255).astype(np.uint8)\n",
    "#print(dat[2])\n",
    "#im = cv2.cvtColor(dat[0], cv2.COLOR_HSV2BGR)\n",
    "#cv2.imshow('image', im)\n",
    "#cv2.waitKey(0)\n",
    "#cv2.destroyAllWindows()\n",
    "#plt.imshow(im)"
   ]
  },
  {
   "cell_type": "code",
   "execution_count": 41,
   "metadata": {},
   "outputs": [],
   "source": [
    "def generator_mlp(Z, fc_sizes=[110,200,300], output_dim=64*64*3, reuse=False):\n",
    "    \n",
    "    with tf.variable_scope(\"Generator\",reuse=reuse):\n",
    "        fc1 = tf.layers.dense(Z, fc_sizes[0], activation=tf.nn.leaky_relu)\n",
    "        fc2 = tf.layers.dense(fc1, fc_sizes[1], activation=tf.nn.leaky_relu)\n",
    "        fc3 = tf.layers.dense(fc2, fc_sizes[2], activation=tf.nn.leaky_relu)\n",
    "        out = tf.layers.dense(fc3, output_dim)\n",
    "    return out\n"
   ]
  },
  {
   "cell_type": "code",
   "execution_count": 42,
   "metadata": {},
   "outputs": [],
   "source": [
    "def discriminator_mlp(X, fc_sizes=[110,300,200], reuse=False):\n",
    "    \n",
    "    with tf.variable_scope(\"Discriminator\",reuse=reuse):\n",
    "        h1 = tf.layers.dense(X,fc_sizes[0],activation=tf.nn.leaky_relu)\n",
    "        h2 = tf.layers.dense(h1,fc_sizes[1],activation=tf.nn.leaky_relu)\n",
    "        h3 = tf.layers.dense(h2,fc_sizes[2],activation=tf.nn.leaky_relu)\n",
    "        out = tf.layers.dense(h3,1)\n",
    "\n",
    "    return out"
   ]
  },
  {
   "cell_type": "code",
   "execution_count": 43,
   "metadata": {},
   "outputs": [],
   "source": [
    "X = tf.placeholder(tf.float32,[None,64*64*3])\n",
    "Z = tf.placeholder(tf.float32,[None,60])"
   ]
  },
  {
   "cell_type": "code",
   "execution_count": 44,
   "metadata": {},
   "outputs": [],
   "source": [
    "X_fake = generator_mlp(Z)\n",
    "true_data_logits = discriminator_mlp(X)\n",
    "fake_data_logits = discriminator_mlp(X_fake, reuse=True)"
   ]
  },
  {
   "cell_type": "code",
   "execution_count": 45,
   "metadata": {},
   "outputs": [],
   "source": [
    "D_loss = tf.reduce_mean(tf.nn.sigmoid_cross_entropy_with_logits(logits=true_data_logits,labels=tf.ones_like(true_data_logits)) + tf.nn.sigmoid_cross_entropy_with_logits(logits=fake_data_logits,labels=tf.zeros_like(fake_data_logits)))\n",
    "G_loss = tf.reduce_mean(tf.nn.sigmoid_cross_entropy_with_logits(logits=fake_data_logits,labels=tf.ones_like(fake_data_logits)))\n"
   ]
  },
  {
   "cell_type": "code",
   "execution_count": 46,
   "metadata": {},
   "outputs": [],
   "source": [
    "G_variables = tf.get_collection(tf.GraphKeys.GLOBAL_VARIABLES,scope=\"Generator\")\n",
    "D_variables = tf.get_collection(tf.GraphKeys.GLOBAL_VARIABLES,scope=\"Discriminator\")\n",
    "\n",
    "G_step = tf.train.RMSPropOptimizer(learning_rate=0.001).minimize(G_loss,var_list = G_variables) # G Train step\n",
    "D_step = tf.train.RMSPropOptimizer(learning_rate=0.001).minimize(D_loss,var_list = D_variables) # D Train step\n"
   ]
  },
  {
   "cell_type": "code",
   "execution_count": 47,
   "metadata": {},
   "outputs": [
    {
     "name": "stdout",
     "output_type": "stream",
     "text": [
      "initializing variables...\n",
      "variable initialization done\n",
      "Loading data...\n",
      "Data loaded. Number of images: 50000\n",
      "Data loaded. Number of images: 49999\n",
      "N: 0\t D_loss: 1.3930\t G_loss: 0.6893\n",
      "N: 1\t D_loss: 1.3318\t G_loss: 0.6888\n",
      "N: 2\t D_loss: 1.2683\t G_loss: 0.6894\n",
      "N: 3\t D_loss: 1.2126\t G_loss: 0.6889\n",
      "N: 4\t D_loss: 1.1593\t G_loss: 0.6892\n",
      "N: 5\t D_loss: 1.1200\t G_loss: 0.6896\n",
      "N: 6\t D_loss: 1.0790\t G_loss: 0.6898\n",
      "N: 7\t D_loss: 1.0523\t G_loss: 0.6899\n",
      "N: 8\t D_loss: 1.0113\t G_loss: 0.6899\n",
      "N: 9\t D_loss: 0.9890\t G_loss: 0.6904\n",
      "N: 10\t D_loss: 0.9577\t G_loss: 0.6910\n",
      "N: 11\t D_loss: 0.9359\t G_loss: 0.6914\n",
      "N: 12\t D_loss: 0.9252\t G_loss: 0.6917\n",
      "N: 13\t D_loss: 0.8978\t G_loss: 0.6921\n",
      "N: 14\t D_loss: 0.8752\t G_loss: 0.6932\n",
      "N: 15\t D_loss: 0.8644\t G_loss: 0.6936\n",
      "N: 16\t D_loss: 0.8395\t G_loss: 0.6948\n",
      "N: 17\t D_loss: 0.8250\t G_loss: 0.6958\n",
      "N: 18\t D_loss: 0.8141\t G_loss: 0.6958\n",
      "N: 19\t D_loss: 0.8023\t G_loss: 0.6971\n",
      "N: 20\t D_loss: 0.7962\t G_loss: 0.6986\n",
      "N: 21\t D_loss: 0.7881\t G_loss: 0.6996\n",
      "N: 22\t D_loss: 0.7707\t G_loss: 0.7006\n",
      "N: 23\t D_loss: 0.7573\t G_loss: 0.7026\n",
      "N: 24\t D_loss: 0.7564\t G_loss: 0.7033\n",
      "N: 25\t D_loss: 0.7540\t G_loss: 0.7051\n",
      "N: 26\t D_loss: 0.7446\t G_loss: 0.7061\n",
      "N: 27\t D_loss: 0.7402\t G_loss: 0.7078\n",
      "N: 28\t D_loss: 0.7334\t G_loss: 0.7105\n",
      "N: 29\t D_loss: 0.7172\t G_loss: 0.7116\n",
      "N: 30\t D_loss: 0.7228\t G_loss: 0.7134\n",
      "N: 31\t D_loss: 0.7133\t G_loss: 0.7151\n",
      "N: 32\t D_loss: 0.7085\t G_loss: 0.7169\n",
      "N: 33\t D_loss: 0.7065\t G_loss: 0.7187\n",
      "N: 34\t D_loss: 0.7009\t G_loss: 0.7214\n",
      "N: 35\t D_loss: 0.6976\t G_loss: 0.7243\n",
      "N: 36\t D_loss: 0.6913\t G_loss: 0.7262\n",
      "N: 37\t D_loss: 0.6925\t G_loss: 0.7284\n",
      "N: 38\t D_loss: 0.6859\t G_loss: 0.7311\n",
      "N: 39\t D_loss: 0.6809\t G_loss: 0.7334\n",
      "N: 40\t D_loss: 0.6757\t G_loss: 0.7362\n",
      "N: 41\t D_loss: 0.6739\t G_loss: 0.7386\n",
      "N: 42\t D_loss: 0.6663\t G_loss: 0.7428\n",
      "N: 43\t D_loss: 0.6669\t G_loss: 0.7447\n",
      "N: 44\t D_loss: 0.6598\t G_loss: 0.7484\n",
      "N: 45\t D_loss: 0.6607\t G_loss: 0.7521\n",
      "N: 46\t D_loss: 0.6525\t G_loss: 0.7551\n",
      "N: 47\t D_loss: 0.6493\t G_loss: 0.7588\n",
      "N: 48\t D_loss: 0.6453\t G_loss: 0.7630\n",
      "N: 49\t D_loss: 0.6412\t G_loss: 0.7663\n",
      "N: 50\t D_loss: 0.6380\t G_loss: 0.7704\n",
      "N: 51\t D_loss: 0.6331\t G_loss: 0.7749\n",
      "N: 52\t D_loss: 0.6306\t G_loss: 0.7790\n",
      "N: 53\t D_loss: 0.6261\t G_loss: 0.7834\n",
      "N: 54\t D_loss: 0.6210\t G_loss: 0.7881\n",
      "N: 55\t D_loss: 0.6187\t G_loss: 0.7926\n",
      "N: 56\t D_loss: 0.6127\t G_loss: 0.7980\n",
      "N: 57\t D_loss: 0.6090\t G_loss: 0.8031\n",
      "N: 58\t D_loss: 0.6033\t G_loss: 0.8077\n",
      "N: 59\t D_loss: 0.6010\t G_loss: 0.8134\n",
      "N: 60\t D_loss: 0.5951\t G_loss: 0.8196\n",
      "N: 61\t D_loss: 0.5927\t G_loss: 0.8234\n",
      "N: 62\t D_loss: 0.5895\t G_loss: 0.8291\n",
      "N: 63\t D_loss: 0.5837\t G_loss: 0.8362\n",
      "N: 64\t D_loss: 0.5827\t G_loss: 0.8420\n",
      "N: 65\t D_loss: 0.5731\t G_loss: 0.8479\n",
      "N: 66\t D_loss: 0.5685\t G_loss: 0.8540\n",
      "N: 67\t D_loss: 0.5651\t G_loss: 0.8610\n",
      "N: 68\t D_loss: 0.5599\t G_loss: 0.8681\n",
      "N: 69\t D_loss: 0.5557\t G_loss: 0.8750\n",
      "N: 70\t D_loss: 0.5478\t G_loss: 0.8824\n",
      "N: 71\t D_loss: 0.5449\t G_loss: 0.8899\n",
      "N: 72\t D_loss: 0.5401\t G_loss: 0.8977\n",
      "N: 73\t D_loss: 0.5338\t G_loss: 0.9050\n",
      "N: 74\t D_loss: 0.5286\t G_loss: 0.9136\n",
      "N: 75\t D_loss: 0.5232\t G_loss: 0.9226\n",
      "N: 76\t D_loss: 0.5161\t G_loss: 0.9339\n",
      "N: 77\t D_loss: 0.5108\t G_loss: 0.9422\n",
      "N: 78\t D_loss: 0.5051\t G_loss: 0.9529\n",
      "N: 79\t D_loss: 0.4998\t G_loss: 0.9631\n",
      "N: 80\t D_loss: 0.4939\t G_loss: 0.9750\n",
      "N: 81\t D_loss: 0.4853\t G_loss: 0.9880\n",
      "N: 82\t D_loss: 0.4774\t G_loss: 1.0010\n",
      "N: 83\t D_loss: 0.4703\t G_loss: 1.0161\n",
      "N: 84\t D_loss: 0.4624\t G_loss: 1.0320\n",
      "N: 85\t D_loss: 0.4560\t G_loss: 1.0471\n",
      "N: 86\t D_loss: 0.4461\t G_loss: 1.0665\n",
      "N: 87\t D_loss: 0.4373\t G_loss: 1.0857\n",
      "N: 88\t D_loss: 0.4259\t G_loss: 1.1061\n",
      "N: 89\t D_loss: 0.4160\t G_loss: 1.1282\n",
      "N: 90\t D_loss: 0.4060\t G_loss: 1.1523\n",
      "N: 91\t D_loss: 0.3943\t G_loss: 1.1773\n",
      "N: 92\t D_loss: 0.3851\t G_loss: 1.2023\n",
      "N: 93\t D_loss: 0.3748\t G_loss: 1.2283\n",
      "N: 94\t D_loss: 0.3616\t G_loss: 1.2582\n",
      "N: 95\t D_loss: 0.3508\t G_loss: 1.2864\n",
      "N: 96\t D_loss: 0.3468\t G_loss: 1.3097\n",
      "N: 97\t D_loss: 0.3360\t G_loss: 1.3308\n",
      "N: 98\t D_loss: 0.3287\t G_loss: 1.3538\n",
      "N: 99\t D_loss: 0.3169\t G_loss: 1.3815\n",
      "N: 100\t D_loss: 0.3101\t G_loss: 1.4018\n",
      "N: 101\t D_loss: 0.2982\t G_loss: 1.4301\n",
      "N: 102\t D_loss: 0.2862\t G_loss: 1.4628\n",
      "N: 103\t D_loss: 0.2783\t G_loss: 1.4895\n",
      "N: 104\t D_loss: 0.2654\t G_loss: 1.5242\n",
      "N: 105\t D_loss: 0.2543\t G_loss: 1.5613\n",
      "N: 106\t D_loss: 0.2469\t G_loss: 1.5914\n",
      "N: 107\t D_loss: 0.2379\t G_loss: 1.6277\n",
      "N: 108\t D_loss: 0.2282\t G_loss: 1.6718\n",
      "N: 109\t D_loss: 0.2143\t G_loss: 1.7287\n",
      "N: 110\t D_loss: 0.2024\t G_loss: 1.7912\n",
      "N: 111\t D_loss: 0.1883\t G_loss: 1.8640\n",
      "N: 112\t D_loss: 0.1728\t G_loss: 1.9447\n",
      "N: 113\t D_loss: 0.1583\t G_loss: 2.0274\n",
      "N: 114\t D_loss: 0.1456\t G_loss: 2.1075\n",
      "N: 115\t D_loss: 0.1341\t G_loss: 2.1917\n",
      "N: 116\t D_loss: 0.1230\t G_loss: 2.2776\n",
      "N: 117\t D_loss: 0.1136\t G_loss: 2.3483\n",
      "N: 118\t D_loss: 0.1086\t G_loss: 2.4083\n",
      "N: 119\t D_loss: 0.1062\t G_loss: 2.4612\n",
      "N: 120\t D_loss: 0.1010\t G_loss: 2.5176\n",
      "N: 121\t D_loss: 0.0976\t G_loss: 2.5491\n",
      "N: 122\t D_loss: 0.0936\t G_loss: 2.6187\n",
      "N: 123\t D_loss: 0.0889\t G_loss: 2.6870\n",
      "N: 124\t D_loss: 0.0880\t G_loss: 2.7800\n",
      "N: 125\t D_loss: 0.0827\t G_loss: 2.8315\n",
      "N: 126\t D_loss: 0.0748\t G_loss: 2.9239\n",
      "N: 127\t D_loss: 0.0676\t G_loss: 3.0147\n",
      "N: 128\t D_loss: 0.0631\t G_loss: 3.0835\n",
      "N: 129\t D_loss: 0.0567\t G_loss: 3.1597\n",
      "N: 130\t D_loss: 0.0503\t G_loss: 3.2812\n",
      "N: 131\t D_loss: 0.0460\t G_loss: 3.2908\n",
      "N: 132\t D_loss: 0.0443\t G_loss: 3.3355\n",
      "N: 133\t D_loss: 0.0428\t G_loss: 3.3536\n",
      "N: 134\t D_loss: 0.0406\t G_loss: 3.4437\n",
      "N: 135\t D_loss: 0.0349\t G_loss: 3.5389\n",
      "N: 136\t D_loss: 0.0334\t G_loss: 3.5816\n",
      "N: 137\t D_loss: 0.0339\t G_loss: 3.6166\n",
      "N: 138\t D_loss: 0.0337\t G_loss: 3.8114\n",
      "N: 139\t D_loss: 0.0275\t G_loss: 3.8560\n",
      "N: 140\t D_loss: 0.0310\t G_loss: 3.8366\n",
      "N: 141\t D_loss: 0.0367\t G_loss: 4.4052\n",
      "N: 142\t D_loss: 0.0176\t G_loss: 4.1938\n",
      "N: 143\t D_loss: 0.0181\t G_loss: 4.1504\n",
      "N: 144\t D_loss: 0.0176\t G_loss: 4.2180\n",
      "N: 145\t D_loss: 0.0166\t G_loss: 4.2494\n",
      "N: 146\t D_loss: 0.0162\t G_loss: 4.3053\n",
      "N: 147\t D_loss: 0.0161\t G_loss: 4.4174\n",
      "N: 148\t D_loss: 0.0142\t G_loss: 4.4840\n",
      "N: 149\t D_loss: 0.0133\t G_loss: 4.5121\n",
      "N: 150\t D_loss: 0.0130\t G_loss: 4.6609\n",
      "N: 151\t D_loss: 0.0104\t G_loss: 4.7221\n",
      "N: 152\t D_loss: 0.0097\t G_loss: 4.7408\n",
      "N: 153\t D_loss: 0.0095\t G_loss: 4.8279\n",
      "N: 154\t D_loss: 0.0089\t G_loss: 4.8779\n",
      "N: 155\t D_loss: 0.0088\t G_loss: 5.0331\n",
      "N: 156\t D_loss: 0.0073\t G_loss: 5.0809\n",
      "N: 157\t D_loss: 0.0071\t G_loss: 5.1360\n",
      "N: 158\t D_loss: 0.0085\t G_loss: 5.4519\n",
      "N: 159\t D_loss: 0.0068\t G_loss: 5.1825\n",
      "N: 160\t D_loss: 0.0465\t G_loss: 6.7816\n",
      "N: 161\t D_loss: 11.7102\t G_loss: 5.0792\n",
      "N: 162\t D_loss: 51.4411\t G_loss: 2.2167\n",
      "N: 163\t D_loss: 20.1708\t G_loss: 0.0001\n",
      "N: 164\t D_loss: 12.8995\t G_loss: 0.0047\n",
      "N: 165\t D_loss: 7.7132\t G_loss: 0.0748\n",
      "N: 166\t D_loss: 4.3888\t G_loss: 1.0369\n",
      "N: 167\t D_loss: 4.1917\t G_loss: 6.3031\n",
      "N: 168\t D_loss: 23.3318\t G_loss: 0.0003\n",
      "N: 169\t D_loss: 12.5629\t G_loss: 0.0048\n",
      "N: 170\t D_loss: 6.4747\t G_loss: 0.1077\n",
      "N: 171\t D_loss: 4.2007\t G_loss: 1.2454\n",
      "N: 172\t D_loss: 7.5991\t G_loss: 3.2097\n",
      "N: 173\t D_loss: 3.1765\t G_loss: 6.1785\n",
      "N: 174\t D_loss: 30.0320\t G_loss: 0.0055\n"
     ]
    },
    {
     "ename": "KeyboardInterrupt",
     "evalue": "",
     "output_type": "error",
     "traceback": [
      "\u001b[1;31m---------------------------------------------------------------------------\u001b[0m",
      "\u001b[1;31mKeyboardInterrupt\u001b[0m                         Traceback (most recent call last)",
      "\u001b[1;32m<ipython-input-47-e94ee9c55f0e>\u001b[0m in \u001b[0;36m<module>\u001b[1;34m\u001b[0m\n\u001b[0;32m     12\u001b[0m \u001b[1;33m\u001b[0m\u001b[0m\n\u001b[0;32m     13\u001b[0m \u001b[1;32mfor\u001b[0m \u001b[0mi\u001b[0m \u001b[1;32min\u001b[0m \u001b[0mrange\u001b[0m\u001b[1;33m(\u001b[0m\u001b[1;36m5000\u001b[0m\u001b[1;33m)\u001b[0m\u001b[1;33m:\u001b[0m\u001b[1;33m\u001b[0m\u001b[0m\n\u001b[1;32m---> 14\u001b[1;33m     \u001b[0mX_batch\u001b[0m \u001b[1;33m=\u001b[0m \u001b[0mget_batch\u001b[0m\u001b[1;33m(\u001b[0m\u001b[0mbatch_size\u001b[0m\u001b[1;33m,\u001b[0m \u001b[0mdataset\u001b[0m\u001b[1;33m)\u001b[0m\u001b[1;33m\u001b[0m\u001b[0m\n\u001b[0m\u001b[0;32m     15\u001b[0m     \u001b[0mX_batch\u001b[0m \u001b[1;33m=\u001b[0m \u001b[0mnp\u001b[0m\u001b[1;33m.\u001b[0m\u001b[0mreshape\u001b[0m\u001b[1;33m(\u001b[0m\u001b[0mX_batch\u001b[0m\u001b[1;33m,\u001b[0m \u001b[1;33m(\u001b[0m\u001b[0mX_batch\u001b[0m\u001b[1;33m.\u001b[0m\u001b[0mshape\u001b[0m\u001b[1;33m[\u001b[0m\u001b[1;36m0\u001b[0m\u001b[1;33m]\u001b[0m\u001b[1;33m,\u001b[0m \u001b[1;36m64\u001b[0m\u001b[1;33m*\u001b[0m\u001b[1;36m64\u001b[0m\u001b[1;33m*\u001b[0m\u001b[1;36m3\u001b[0m\u001b[1;33m)\u001b[0m\u001b[1;33m)\u001b[0m\u001b[1;33m\u001b[0m\u001b[0m\n\u001b[0;32m     16\u001b[0m     \u001b[0mZ_batch\u001b[0m \u001b[1;33m=\u001b[0m \u001b[0msample_Z\u001b[0m\u001b[1;33m(\u001b[0m\u001b[0mbatch_size\u001b[0m\u001b[1;33m,\u001b[0m \u001b[1;36m60\u001b[0m\u001b[1;33m)\u001b[0m\u001b[1;33m\u001b[0m\u001b[0m\n",
      "\u001b[1;32m<ipython-input-39-f3daca328692>\u001b[0m in \u001b[0;36mget_batch\u001b[1;34m(batch_size, dataset)\u001b[0m\n\u001b[0;32m     26\u001b[0m \u001b[1;32mdef\u001b[0m \u001b[0mget_batch\u001b[0m\u001b[1;33m(\u001b[0m\u001b[0mbatch_size\u001b[0m\u001b[1;33m,\u001b[0m \u001b[0mdataset\u001b[0m\u001b[1;33m)\u001b[0m\u001b[1;33m:\u001b[0m\u001b[1;33m\u001b[0m\u001b[0m\n\u001b[0;32m     27\u001b[0m     \u001b[0mindexes\u001b[0m \u001b[1;33m=\u001b[0m \u001b[0mnp\u001b[0m\u001b[1;33m.\u001b[0m\u001b[0mrandom\u001b[0m\u001b[1;33m.\u001b[0m\u001b[0mrandint\u001b[0m\u001b[1;33m(\u001b[0m\u001b[1;36m0\u001b[0m\u001b[1;33m,\u001b[0m \u001b[0mlen\u001b[0m\u001b[1;33m(\u001b[0m\u001b[0mdataset\u001b[0m\u001b[1;33m)\u001b[0m\u001b[1;33m,\u001b[0m \u001b[0mbatch_size\u001b[0m\u001b[1;33m)\u001b[0m\u001b[1;33m\u001b[0m\u001b[0m\n\u001b[1;32m---> 28\u001b[1;33m     \u001b[0mdata\u001b[0m \u001b[1;33m=\u001b[0m \u001b[0mdataset\u001b[0m\u001b[1;33m[\u001b[0m\u001b[0mindexes\u001b[0m\u001b[1;33m]\u001b[0m\u001b[1;33m\u001b[0m\u001b[0m\n\u001b[0m\u001b[0;32m     29\u001b[0m     \u001b[1;32mreturn\u001b[0m \u001b[0mdata\u001b[0m\u001b[1;33m\u001b[0m\u001b[0m\n\u001b[0;32m     30\u001b[0m \u001b[1;33m\u001b[0m\u001b[0m\n",
      "\u001b[1;31mKeyboardInterrupt\u001b[0m: "
     ]
    }
   ],
   "source": [
    "sess = tf.Session()\n",
    "print(\"initializing variables...\")\n",
    "tf.global_variables_initializer().run(session=sess)\n",
    "print(\"variable initialization done\")\n",
    "\n",
    "\n",
    "batch_size = 125\n",
    "\n",
    "print(\"Loading data...\")\n",
    "dataset = get_data_normalized(50000)\n",
    "print(\"Data loaded. Number of images: \" + str(len(dataset)))\n",
    "\n",
    "for i in range(5000):\n",
    "    X_batch = get_batch(batch_size, dataset)\n",
    "    X_batch = np.reshape(X_batch, (X_batch.shape[0], 64*64*3))\n",
    "    Z_batch = sample_Z(batch_size, 60)\n",
    "    _, Dloss = sess.run([D_step, D_loss], feed_dict={X: X_batch, Z: Z_batch})\n",
    "    _, Gloss = sess.run([G_step, G_loss], feed_dict={Z: Z_batch})\n",
    "\n",
    "    print(\"N: %d\\t D_loss: %.4f\\t G_loss: %.4f\"%(i,Dloss,Gloss))\n",
    "Z_batch = sample_Z(1, 60)\n",
    "X_batch = get_batch(1, dataset)\n",
    "X_batch = np.reshape(X_batch, (X_batch.shape[0], 64*64*3))\n",
    "\n",
    "\n",
    "# RGB\n",
    "sess.run(X_fake, feed_dict={X: X_batch, Z: Z_batch})\n",
    "plt.imshow(tf.reshape(X_fake, shape=(64,64,3)).eval(session=sess, feed_dict={X: X_batch, Z: Z_batch}))\n",
    "\n",
    "## HSV\n",
    "#image = tf.reshape(G_sample, shape=(64,64,3)).eval(session=sess, feed_dict={X: X_batch, Z: Z_batch})\n",
    "#image = (image * 255).astype(npint)\n",
    "#im = cv2.cvtColor(dat[0], cv2.COLOR_HSV2BGR)\n",
    "#plt.imshow(im)"
   ]
  },
  {
   "cell_type": "code",
   "execution_count": 37,
   "metadata": {
    "scrolled": true
   },
   "outputs": [
    {
     "name": "stderr",
     "output_type": "stream",
     "text": [
      "Clipping input data to the valid range for imshow with RGB data ([0..1] for floats or [0..255] for integers).\n"
     ]
    },
    {
     "data": {
      "text/plain": [
       "<matplotlib.image.AxesImage at 0x1fbcde3c278>"
      ]
     },
     "execution_count": 37,
     "metadata": {},
     "output_type": "execute_result"
    },
    {
     "data": {
      "image/png": "[encoded data removed]",
      "text/plain": [
       "<Figure size 432x288 with 1 Axes>"
      ]
     },
     "metadata": {
      "needs_background": "light"
     },
     "output_type": "display_data"
    }
   ],
   "source": [
    "Z_batch = sample_Z(1, 60)\n",
    "X_batch = get_batch(1, dataset)\n",
    "X_batch = np.reshape(X_batch, (X_batch.shape[0], 64*64*3))\n",
    "plt.imshow(tf.reshape(X_fake, shape=(64,64,3)).eval(session=sess, feed_dict={X: X_batch, Z: Z_batch}))"
   ]
  },
  {
   "cell_type": "code",
   "execution_count": 36,
   "metadata": {},
   "outputs": [
    {
     "ename": "NameError",
     "evalue": "name 'G_sample' is not defined",
     "output_type": "error",
     "traceback": [
      "\u001b[1;31m---------------------------------------------------------------------------\u001b[0m",
      "\u001b[1;31mNameError\u001b[0m                                 Traceback (most recent call last)",
      "\u001b[1;32m<ipython-input-36-33c425364936>\u001b[0m in \u001b[0;36m<module>\u001b[1;34m\u001b[0m\n\u001b[0;32m      1\u001b[0m \u001b[0mZ_batch\u001b[0m \u001b[1;33m=\u001b[0m \u001b[0msample_Z\u001b[0m\u001b[1;33m(\u001b[0m\u001b[1;36m1\u001b[0m\u001b[1;33m,\u001b[0m \u001b[1;36m100\u001b[0m\u001b[1;33m)\u001b[0m\u001b[1;33m\u001b[0m\u001b[0m\n\u001b[0;32m      2\u001b[0m \u001b[0mX_batch\u001b[0m \u001b[1;33m=\u001b[0m \u001b[0mget_batch\u001b[0m\u001b[1;33m(\u001b[0m\u001b[1;36m1\u001b[0m\u001b[1;33m,\u001b[0m \u001b[0mdataset\u001b[0m\u001b[1;33m)\u001b[0m\u001b[1;33m\u001b[0m\u001b[0m\n\u001b[1;32m----> 3\u001b[1;33m \u001b[0msess\u001b[0m\u001b[1;33m.\u001b[0m\u001b[0mrun\u001b[0m\u001b[1;33m(\u001b[0m\u001b[0mG_sample\u001b[0m\u001b[1;33m,\u001b[0m \u001b[0mfeed_dict\u001b[0m\u001b[1;33m=\u001b[0m\u001b[1;33m{\u001b[0m\u001b[0mX\u001b[0m\u001b[1;33m:\u001b[0m \u001b[0mX_batch\u001b[0m\u001b[1;33m,\u001b[0m \u001b[0mZ\u001b[0m\u001b[1;33m:\u001b[0m \u001b[0mZ_batch\u001b[0m\u001b[1;33m}\u001b[0m\u001b[1;33m)\u001b[0m\u001b[1;33m\u001b[0m\u001b[0m\n\u001b[0m\u001b[0;32m      4\u001b[0m \u001b[0mplt\u001b[0m\u001b[1;33m.\u001b[0m\u001b[0mimshow\u001b[0m\u001b[1;33m(\u001b[0m\u001b[0mtf\u001b[0m\u001b[1;33m.\u001b[0m\u001b[0mreshape\u001b[0m\u001b[1;33m(\u001b[0m\u001b[0mG_sample\u001b[0m\u001b[1;33m,\u001b[0m \u001b[0mshape\u001b[0m\u001b[1;33m=\u001b[0m\u001b[1;33m(\u001b[0m\u001b[1;36m218\u001b[0m\u001b[1;33m,\u001b[0m\u001b[1;36m178\u001b[0m\u001b[1;33m,\u001b[0m\u001b[1;36m3\u001b[0m\u001b[1;33m)\u001b[0m\u001b[1;33m)\u001b[0m\u001b[1;33m.\u001b[0m\u001b[0meval\u001b[0m\u001b[1;33m(\u001b[0m\u001b[0msession\u001b[0m\u001b[1;33m=\u001b[0m\u001b[0msess\u001b[0m\u001b[1;33m,\u001b[0m \u001b[0mfeed_dict\u001b[0m\u001b[1;33m=\u001b[0m\u001b[1;33m{\u001b[0m\u001b[0mX\u001b[0m\u001b[1;33m:\u001b[0m \u001b[0mX_batch\u001b[0m\u001b[1;33m,\u001b[0m \u001b[0mZ\u001b[0m\u001b[1;33m:\u001b[0m \u001b[0mZ_batch\u001b[0m\u001b[1;33m}\u001b[0m\u001b[1;33m)\u001b[0m\u001b[1;33m)\u001b[0m\u001b[1;33m\u001b[0m\u001b[0m\n",
      "\u001b[1;31mNameError\u001b[0m: name 'G_sample' is not defined"
     ]
    }
   ],
   "source": [
    "Z_batch = sample_Z(1, 100)\n",
    "X_batch = get_batch(1, dataset)\n",
    "sess.run(G_sample, feed_dict={X: X_batch, Z: Z_batch})\n",
    "plt.imshow(tf.reshape(G_sample, shape=(218,178,3)).eval(session=sess, feed_dict={X: X_batch, Z: Z_batch}))"
   ]
  },
  {
   "cell_type": "code",
   "execution_count": 33,
   "metadata": {},
   "outputs": [
    {
     "ename": "ValueError",
     "evalue": "Dimension size must be evenly divisible by 12288 but is 116412 for 'Reshape_5' (op: 'Reshape') with input shapes: [?,12288], [3] and with input tensors computed as partial shapes: input[1] = [218,178,3].",
     "output_type": "error",
     "traceback": [
      "\u001b[1;31m---------------------------------------------------------------------------\u001b[0m",
      "\u001b[1;31mInvalidArgumentError\u001b[0m                      Traceback (most recent call last)",
      "\u001b[1;32mc:\\users\\corty\\anaconda3\\envs\\tensorflow-gpu\\lib\\site-packages\\tensorflow\\python\\framework\\ops.py\u001b[0m in \u001b[0;36m_create_c_op\u001b[1;34m(graph, node_def, inputs, control_inputs)\u001b[0m\n\u001b[0;32m   1575\u001b[0m   \u001b[1;32mtry\u001b[0m\u001b[1;33m:\u001b[0m\u001b[1;33m\u001b[0m\u001b[0m\n\u001b[1;32m-> 1576\u001b[1;33m     \u001b[0mc_op\u001b[0m \u001b[1;33m=\u001b[0m \u001b[0mc_api\u001b[0m\u001b[1;33m.\u001b[0m\u001b[0mTF_FinishOperation\u001b[0m\u001b[1;33m(\u001b[0m\u001b[0mop_desc\u001b[0m\u001b[1;33m)\u001b[0m\u001b[1;33m\u001b[0m\u001b[0m\n\u001b[0m\u001b[0;32m   1577\u001b[0m   \u001b[1;32mexcept\u001b[0m \u001b[0merrors\u001b[0m\u001b[1;33m.\u001b[0m\u001b[0mInvalidArgumentError\u001b[0m \u001b[1;32mas\u001b[0m \u001b[0me\u001b[0m\u001b[1;33m:\u001b[0m\u001b[1;33m\u001b[0m\u001b[0m\n",
      "\u001b[1;31mInvalidArgumentError\u001b[0m: Dimension size must be evenly divisible by 12288 but is 116412 for 'Reshape_5' (op: 'Reshape') with input shapes: [?,12288], [3] and with input tensors computed as partial shapes: input[1] = [218,178,3].",
      "\nDuring handling of the above exception, another exception occurred:\n",
      "\u001b[1;31mValueError\u001b[0m                                Traceback (most recent call last)",
      "\u001b[1;32m<ipython-input-33-33c425364936>\u001b[0m in \u001b[0;36m<module>\u001b[1;34m\u001b[0m\n\u001b[0;32m      2\u001b[0m \u001b[0mX_batch\u001b[0m \u001b[1;33m=\u001b[0m \u001b[0mget_batch\u001b[0m\u001b[1;33m(\u001b[0m\u001b[1;36m1\u001b[0m\u001b[1;33m,\u001b[0m \u001b[0mdataset\u001b[0m\u001b[1;33m)\u001b[0m\u001b[1;33m\u001b[0m\u001b[0m\n\u001b[0;32m      3\u001b[0m \u001b[0msess\u001b[0m\u001b[1;33m.\u001b[0m\u001b[0mrun\u001b[0m\u001b[1;33m(\u001b[0m\u001b[0mG_sample\u001b[0m\u001b[1;33m,\u001b[0m \u001b[0mfeed_dict\u001b[0m\u001b[1;33m=\u001b[0m\u001b[1;33m{\u001b[0m\u001b[0mX\u001b[0m\u001b[1;33m:\u001b[0m \u001b[0mX_batch\u001b[0m\u001b[1;33m,\u001b[0m \u001b[0mZ\u001b[0m\u001b[1;33m:\u001b[0m \u001b[0mZ_batch\u001b[0m\u001b[1;33m}\u001b[0m\u001b[1;33m)\u001b[0m\u001b[1;33m\u001b[0m\u001b[0m\n\u001b[1;32m----> 4\u001b[1;33m \u001b[0mplt\u001b[0m\u001b[1;33m.\u001b[0m\u001b[0mimshow\u001b[0m\u001b[1;33m(\u001b[0m\u001b[0mtf\u001b[0m\u001b[1;33m.\u001b[0m\u001b[0mreshape\u001b[0m\u001b[1;33m(\u001b[0m\u001b[0mG_sample\u001b[0m\u001b[1;33m,\u001b[0m \u001b[0mshape\u001b[0m\u001b[1;33m=\u001b[0m\u001b[1;33m(\u001b[0m\u001b[1;36m218\u001b[0m\u001b[1;33m,\u001b[0m\u001b[1;36m178\u001b[0m\u001b[1;33m,\u001b[0m\u001b[1;36m3\u001b[0m\u001b[1;33m)\u001b[0m\u001b[1;33m)\u001b[0m\u001b[1;33m.\u001b[0m\u001b[0meval\u001b[0m\u001b[1;33m(\u001b[0m\u001b[0msession\u001b[0m\u001b[1;33m=\u001b[0m\u001b[0msess\u001b[0m\u001b[1;33m,\u001b[0m \u001b[0mfeed_dict\u001b[0m\u001b[1;33m=\u001b[0m\u001b[1;33m{\u001b[0m\u001b[0mX\u001b[0m\u001b[1;33m:\u001b[0m \u001b[0mX_batch\u001b[0m\u001b[1;33m,\u001b[0m \u001b[0mZ\u001b[0m\u001b[1;33m:\u001b[0m \u001b[0mZ_batch\u001b[0m\u001b[1;33m}\u001b[0m\u001b[1;33m)\u001b[0m\u001b[1;33m)\u001b[0m\u001b[1;33m\u001b[0m\u001b[0m\n\u001b[0m",
      "\u001b[1;32mc:\\users\\corty\\anaconda3\\envs\\tensorflow-gpu\\lib\\site-packages\\tensorflow\\python\\ops\\gen_array_ops.py\u001b[0m in \u001b[0;36mreshape\u001b[1;34m(tensor, shape, name)\u001b[0m\n\u001b[0;32m   7432\u001b[0m   \u001b[1;32mif\u001b[0m \u001b[0m_ctx\u001b[0m \u001b[1;32mis\u001b[0m \u001b[1;32mNone\u001b[0m \u001b[1;32mor\u001b[0m \u001b[1;32mnot\u001b[0m \u001b[0m_ctx\u001b[0m\u001b[1;33m.\u001b[0m\u001b[0m_eager_context\u001b[0m\u001b[1;33m.\u001b[0m\u001b[0mis_eager\u001b[0m\u001b[1;33m:\u001b[0m\u001b[1;33m\u001b[0m\u001b[0m\n\u001b[0;32m   7433\u001b[0m     _, _, _op = _op_def_lib._apply_op_helper(\n\u001b[1;32m-> 7434\u001b[1;33m         \"Reshape\", tensor=tensor, shape=shape, name=name)\n\u001b[0m\u001b[0;32m   7435\u001b[0m     \u001b[0m_result\u001b[0m \u001b[1;33m=\u001b[0m \u001b[0m_op\u001b[0m\u001b[1;33m.\u001b[0m\u001b[0moutputs\u001b[0m\u001b[1;33m[\u001b[0m\u001b[1;33m:\u001b[0m\u001b[1;33m]\u001b[0m\u001b[1;33m\u001b[0m\u001b[0m\n\u001b[0;32m   7436\u001b[0m     \u001b[0m_inputs_flat\u001b[0m \u001b[1;33m=\u001b[0m \u001b[0m_op\u001b[0m\u001b[1;33m.\u001b[0m\u001b[0minputs\u001b[0m\u001b[1;33m\u001b[0m\u001b[0m\n",
      "\u001b[1;32mc:\\users\\corty\\anaconda3\\envs\\tensorflow-gpu\\lib\\site-packages\\tensorflow\\python\\framework\\op_def_library.py\u001b[0m in \u001b[0;36m_apply_op_helper\u001b[1;34m(self, op_type_name, name, **keywords)\u001b[0m\n\u001b[0;32m    785\u001b[0m         op = g.create_op(op_type_name, inputs, output_types, name=scope,\n\u001b[0;32m    786\u001b[0m                          \u001b[0minput_types\u001b[0m\u001b[1;33m=\u001b[0m\u001b[0minput_types\u001b[0m\u001b[1;33m,\u001b[0m \u001b[0mattrs\u001b[0m\u001b[1;33m=\u001b[0m\u001b[0mattr_protos\u001b[0m\u001b[1;33m,\u001b[0m\u001b[1;33m\u001b[0m\u001b[0m\n\u001b[1;32m--> 787\u001b[1;33m                          op_def=op_def)\n\u001b[0m\u001b[0;32m    788\u001b[0m       \u001b[1;32mreturn\u001b[0m \u001b[0moutput_structure\u001b[0m\u001b[1;33m,\u001b[0m \u001b[0mop_def\u001b[0m\u001b[1;33m.\u001b[0m\u001b[0mis_stateful\u001b[0m\u001b[1;33m,\u001b[0m \u001b[0mop\u001b[0m\u001b[1;33m\u001b[0m\u001b[0m\n\u001b[0;32m    789\u001b[0m \u001b[1;33m\u001b[0m\u001b[0m\n",
      "\u001b[1;32mc:\\users\\corty\\anaconda3\\envs\\tensorflow-gpu\\lib\\site-packages\\tensorflow\\python\\util\\deprecation.py\u001b[0m in \u001b[0;36mnew_func\u001b[1;34m(*args, **kwargs)\u001b[0m\n\u001b[0;32m    452\u001b[0m                 \u001b[1;34m'in a future version'\u001b[0m \u001b[1;32mif\u001b[0m \u001b[0mdate\u001b[0m \u001b[1;32mis\u001b[0m \u001b[1;32mNone\u001b[0m \u001b[1;32melse\u001b[0m \u001b[1;33m(\u001b[0m\u001b[1;34m'after %s'\u001b[0m \u001b[1;33m%\u001b[0m \u001b[0mdate\u001b[0m\u001b[1;33m)\u001b[0m\u001b[1;33m,\u001b[0m\u001b[1;33m\u001b[0m\u001b[0m\n\u001b[0;32m    453\u001b[0m                 instructions)\n\u001b[1;32m--> 454\u001b[1;33m       \u001b[1;32mreturn\u001b[0m \u001b[0mfunc\u001b[0m\u001b[1;33m(\u001b[0m\u001b[1;33m*\u001b[0m\u001b[0margs\u001b[0m\u001b[1;33m,\u001b[0m \u001b[1;33m**\u001b[0m\u001b[0mkwargs\u001b[0m\u001b[1;33m)\u001b[0m\u001b[1;33m\u001b[0m\u001b[0m\n\u001b[0m\u001b[0;32m    455\u001b[0m     return tf_decorator.make_decorator(func, new_func, 'deprecated',\n\u001b[0;32m    456\u001b[0m                                        _add_deprecated_arg_notice_to_docstring(\n",
      "\u001b[1;32mc:\\users\\corty\\anaconda3\\envs\\tensorflow-gpu\\lib\\site-packages\\tensorflow\\python\\framework\\ops.py\u001b[0m in \u001b[0;36mcreate_op\u001b[1;34m(***failed resolving arguments***)\u001b[0m\n\u001b[0;32m   3153\u001b[0m           \u001b[0minput_types\u001b[0m\u001b[1;33m=\u001b[0m\u001b[0minput_types\u001b[0m\u001b[1;33m,\u001b[0m\u001b[1;33m\u001b[0m\u001b[0m\n\u001b[0;32m   3154\u001b[0m           \u001b[0moriginal_op\u001b[0m\u001b[1;33m=\u001b[0m\u001b[0mself\u001b[0m\u001b[1;33m.\u001b[0m\u001b[0m_default_original_op\u001b[0m\u001b[1;33m,\u001b[0m\u001b[1;33m\u001b[0m\u001b[0m\n\u001b[1;32m-> 3155\u001b[1;33m           op_def=op_def)\n\u001b[0m\u001b[0;32m   3156\u001b[0m       \u001b[0mself\u001b[0m\u001b[1;33m.\u001b[0m\u001b[0m_create_op_helper\u001b[0m\u001b[1;33m(\u001b[0m\u001b[0mret\u001b[0m\u001b[1;33m,\u001b[0m \u001b[0mcompute_device\u001b[0m\u001b[1;33m=\u001b[0m\u001b[0mcompute_device\u001b[0m\u001b[1;33m)\u001b[0m\u001b[1;33m\u001b[0m\u001b[0m\n\u001b[0;32m   3157\u001b[0m     \u001b[1;32mreturn\u001b[0m \u001b[0mret\u001b[0m\u001b[1;33m\u001b[0m\u001b[0m\n",
      "\u001b[1;32mc:\\users\\corty\\anaconda3\\envs\\tensorflow-gpu\\lib\\site-packages\\tensorflow\\python\\framework\\ops.py\u001b[0m in \u001b[0;36m__init__\u001b[1;34m(self, node_def, g, inputs, output_types, control_inputs, input_types, original_op, op_def)\u001b[0m\n\u001b[0;32m   1729\u001b[0m           op_def, inputs, node_def.attr)\n\u001b[0;32m   1730\u001b[0m       self._c_op = _create_c_op(self._graph, node_def, grouped_inputs,\n\u001b[1;32m-> 1731\u001b[1;33m                                 control_input_ops)\n\u001b[0m\u001b[0;32m   1732\u001b[0m \u001b[1;33m\u001b[0m\u001b[0m\n\u001b[0;32m   1733\u001b[0m     \u001b[1;31m# Initialize self._outputs.\u001b[0m\u001b[1;33m\u001b[0m\u001b[1;33m\u001b[0m\u001b[0m\n",
      "\u001b[1;32mc:\\users\\corty\\anaconda3\\envs\\tensorflow-gpu\\lib\\site-packages\\tensorflow\\python\\framework\\ops.py\u001b[0m in \u001b[0;36m_create_c_op\u001b[1;34m(graph, node_def, inputs, control_inputs)\u001b[0m\n\u001b[0;32m   1577\u001b[0m   \u001b[1;32mexcept\u001b[0m \u001b[0merrors\u001b[0m\u001b[1;33m.\u001b[0m\u001b[0mInvalidArgumentError\u001b[0m \u001b[1;32mas\u001b[0m \u001b[0me\u001b[0m\u001b[1;33m:\u001b[0m\u001b[1;33m\u001b[0m\u001b[0m\n\u001b[0;32m   1578\u001b[0m     \u001b[1;31m# Convert to ValueError for backwards compatibility.\u001b[0m\u001b[1;33m\u001b[0m\u001b[1;33m\u001b[0m\u001b[0m\n\u001b[1;32m-> 1579\u001b[1;33m     \u001b[1;32mraise\u001b[0m \u001b[0mValueError\u001b[0m\u001b[1;33m(\u001b[0m\u001b[0mstr\u001b[0m\u001b[1;33m(\u001b[0m\u001b[0me\u001b[0m\u001b[1;33m)\u001b[0m\u001b[1;33m)\u001b[0m\u001b[1;33m\u001b[0m\u001b[0m\n\u001b[0m\u001b[0;32m   1580\u001b[0m \u001b[1;33m\u001b[0m\u001b[0m\n\u001b[0;32m   1581\u001b[0m   \u001b[1;32mreturn\u001b[0m \u001b[0mc_op\u001b[0m\u001b[1;33m\u001b[0m\u001b[0m\n",
      "\u001b[1;31mValueError\u001b[0m: Dimension size must be evenly divisible by 12288 but is 116412 for 'Reshape_5' (op: 'Reshape') with input shapes: [?,12288], [3] and with input tensors computed as partial shapes: input[1] = [218,178,3]."
     ]
    }
   ],
   "source": [
    "Z_batch = sample_Z(1, 100)\n",
    "X_batch = get_batch(1, dataset)\n",
    "sess.run(G_sample, feed_dict={X: X_batch, Z: Z_batch})\n",
    "plt.imshow(tf.reshape(G_sample, shape=(218,178,3)).eval(session=sess, feed_dict={X: X_batch, Z: Z_batch}))"
   ]
  },
  {
   "cell_type": "code",
   "execution_count": null,
   "metadata": {},
   "outputs": [],
   "source": []
  }
 ],
 "metadata": {
  "kernelspec": {
   "display_name": "Python 3",
   "language": "python",
   "name": "python3"
  },
  "language_info": {
   "codemirror_mode": {
    "name": "ipython",
    "version": 3
   },
   "file_extension": ".py",
   "mimetype": "text/x-python",
   "name": "python",
   "nbconvert_exporter": "python",
   "pygments_lexer": "ipython3",
   "version": "3.5.2"
  }
 },
 "nbformat": 4,
 "nbformat_minor": 2
}
