{
 "cells": [
  {
   "cell_type": "markdown",
   "metadata": {},
   "source": [
    "# Generative Adversarial Network"
   ]
  },
  {
   "cell_type": "markdown",
   "metadata": {},
   "source": [
    "## Pre-processing data"
   ]
  },
  {
   "cell_type": "code",
   "execution_count": 147,
   "metadata": {},
   "outputs": [],
   "source": [
    "import tensorflow as tf\n",
    "import numpy as np\n",
    "from IPython.display import Image\n",
    "import matplotlib.image as mpimg\n",
    "import matplotlib.pyplot as plt\n",
    "from matplotlib.colors import hsv_to_rgb\n",
    "import os\n",
    "import cv2\n",
    "tf.reset_default_graph()"
   ]
  },
  {
   "cell_type": "code",
   "execution_count": 148,
   "metadata": {},
   "outputs": [],
   "source": [
    "def crop_and_resize_64():\n",
    "    if not os.path.isdir(\"img_align_celeba_64\"):\n",
    "        os.mkdir(\"img_align_celeba_64\")\n",
    "    for i in range(1, 202599 + 1):\n",
    "        name = str(i).zfill(6) + \".jpg\"\n",
    "        img = cv2.imread(\"img_align_celeba/\" + name, 1)\n",
    "        img = cv2.resize(img[50:191,30:171], (64,64))\n",
    "        cv2.imwrite(\"img_align_celeba_64/\" + name, img)\n",
    "#crop_and_resize_64()"
   ]
  },
  {
   "cell_type": "code",
   "execution_count": 149,
   "metadata": {},
   "outputs": [],
   "source": [
    "## Here we will get the 100 000 first images and put them in a variable 178*218*3\n",
    "dataset_size = 50000 #202599\n",
    "\n",
    "        \n",
    "def get_batch(batch_size):\n",
    "        indexes = np.random.randint(1, dataset_size + 1, batch_size)\n",
    "        data = []\n",
    "        imgname = \"img_align_celeba_64/\"\n",
    "        for i in indexes:\n",
    "            #image = tf.read_file(imgname + str(i).zfill(6) + \".jpg\")\n",
    "            #image = tf.image.decode_jpeg(image, channels=3)\n",
    "            image = mpimg.imread(imgname + str(i).zfill(6) + \".jpg\")\n",
    "            # Normalizing & centering images\n",
    "            #image = image - np.mean(image)\n",
    "            #image = image / np.var(image)\n",
    "            #image = 2*(image/255. -0.5)\n",
    "            data.append(image)\n",
    "        return np.array(data)\n",
    "\n",
    "def sample_Z(batch_size=50, n=128):\n",
    "        return np.random.uniform(-1., 1., size=[batch_size, n])"
   ]
  },
  {
   "cell_type": "code",
   "execution_count": 150,
   "metadata": {},
   "outputs": [],
   "source": [
    "def generator_cnn(Z, fc_sizes=[110,200,300], output_dim=3, reuse=False, alpha=0.2, keep_prob=0.5,is_train=True):\n",
    "    \n",
    "    with tf.variable_scope(\"GAN/Generator_cnn\",reuse=reuse):      \n",
    "         # 1. Fully connnected\n",
    "        fc = tf.layers.dense(Z, 4*4*512, use_bias=False)\n",
    "        fc = tf.reshape(fc, (-1, 4, 4, 512))\n",
    "        #bn0 = tf.layers.batch_normalization(fc, training=is_train)\n",
    "        relu0 = tf.nn.relu(fc)\n",
    "        drop0 = tf.layers.dropout(relu0, keep_prob, training=is_train)\n",
    "        \n",
    "        # 2. Deconvolution \n",
    "        conv1 = tf.layers.conv2d_transpose(relu0, 256, 5, 2, 'same', use_bias=False)\n",
    "        bn1 = tf.layers.batch_normalization(conv1, training=is_train)\n",
    "        relu1 = tf.nn.relu(bn1)\n",
    "        drop1 = tf.layers.dropout(relu1, keep_prob, training=is_train)\n",
    "        \n",
    "        # 3. Deconvolution\n",
    "        conv2 = tf.layers.conv2d_transpose(relu1, 128, 5, 2, 'same', use_bias=False)\n",
    "        bn2 = tf.layers.batch_normalization(conv2, training=is_train)\n",
    "        relu2 = tf.nn.relu(bn2)\n",
    "        drop2 = tf.layers.dropout(relu2, keep_prob, training=is_train)\n",
    "        \n",
    "        # 4. Deconvolution\n",
    "        conv3 = tf.layers.conv2d_transpose(relu2, 64, 5, 2, 'same', use_bias=False)\n",
    "        bn3 = tf.layers.batch_normalization(conv3, training=is_train)\n",
    "        relu3 = tf.nn.relu(bn3)\n",
    "        drop3 = tf.layers.dropout(relu3, keep_prob, training=is_train)\n",
    "        \n",
    "        # 5. dense, Output layer\n",
    "        out = tf.layers.conv2d_transpose(relu3, output_dim, 5, 2, 'same')\n",
    "        logits = tf.nn.tanh(out)\n",
    "        return logits\n"
   ]
  },
  {
   "cell_type": "code",
   "execution_count": 151,
   "metadata": {},
   "outputs": [],
   "source": [
    "def discriminator_cnn(X, fc_sizes=[110,300,200], reuse=False, alpha=0.2, keep_prob=0.5):\n",
    "    \n",
    "    with tf.variable_scope(\"GAN/Discriminator_cnn\",reuse=reuse):\n",
    "        # Input layer is 64x64x3\n",
    "        # Convolutional layer, 30x30x64\n",
    "        conv1 = tf.layers.conv2d(X, 64, 5, 2, padding='same', kernel_initializer=tf.contrib.layers.xavier_initializer())\n",
    "        lrelu1 = tf.maximum(alpha * conv1, conv1)\n",
    "        drop1 = tf.layers.dropout(lrelu1, keep_prob)\n",
    "        \n",
    "        # Strided convolutional layer, 13x13x128\n",
    "        conv2 = tf.layers.conv2d(lrelu1, 128, 5, 2, 'same', use_bias=False)\n",
    "        bn2 = tf.layers.batch_normalization(conv2)\n",
    "        lrelu2 = tf.maximum(alpha * bn2, bn2)\n",
    "        drop2 = tf.layers.dropout(lrelu2, keep_prob)\n",
    "        \n",
    "        # Strided convolutional layer, 5x5x256\n",
    "        conv3 = tf.layers.conv2d(lrelu2, 256, 5, 2, 'same', use_bias=False)\n",
    "        bn3 = tf.layers.batch_normalization(conv3)\n",
    "        lrelu3 = tf.maximum(alpha * bn3, bn3)\n",
    "        drop3 = tf.layers.dropout(lrelu3, keep_prob)\n",
    "        \n",
    "        # Strided convolutional layer, 1x1x512\n",
    "        conv4 = tf.layers.conv2d(lrelu3, 512, 5, 2, 'same', use_bias=False)\n",
    "        bn4 = tf.layers.batch_normalization(conv4)\n",
    "        lrelu4 = tf.maximum(alpha * bn4, bn4)\n",
    "        drop4 = tf.layers.dropout(lrelu4, keep_prob)\n",
    "        \n",
    "        # fully connected\n",
    "        flat = tf.reshape(lrelu4, (-1, 512))\n",
    "        out0 = tf.layers.dense(flat, 1)\n",
    "        out = tf.nn.sigmoid(out0)\n",
    "        return out"
   ]
  },
  {
   "cell_type": "code",
   "execution_count": 152,
   "metadata": {},
   "outputs": [],
   "source": [
    "X = tf.placeholder(tf.float32,[None,64,64,3])\n",
    "#XX = tf.reshape(X, shape=(tf.shape(X)[0], 64*64*3))\n",
    "Z = tf.placeholder(tf.float32,[None,128])"
   ]
  },
  {
   "cell_type": "code",
   "execution_count": 153,
   "metadata": {},
   "outputs": [],
   "source": [
    "X_fake = generator_cnn(Z)"
   ]
  },
  {
   "cell_type": "code",
   "execution_count": 154,
   "metadata": {},
   "outputs": [],
   "source": [
    "true_data_logits = discriminator_cnn(X)\n",
    "fake_data_logits = discriminator_cnn(X_fake, reuse=True)"
   ]
  },
  {
   "cell_type": "code",
   "execution_count": 155,
   "metadata": {},
   "outputs": [],
   "source": [
    "#D_loss = tf.reduce_mean(tf.nn.sigmoid_cross_entropy_with_logits(logits=true_data_logits,labels=tf.ones_like(true_data_logits)) + tf.nn.sigmoid_cross_entropy_with_logits(logits=fake_data_logits,labels=tf.zeros_like(fake_data_logits)))\n",
    "#G_loss = tf.reduce_mean(tf.nn.sigmoid_cross_entropy_with_logits(logits=fake_data_logits,labels=tf.ones_like(fake_data_logits)))\n",
    "\n",
    "D_loss = tf.reduce_mean(fake_data_logits) - tf.reduce_mean(true_data_logits) \n",
    "G_loss = -tf.reduce_mean(fake_data_logits)\n",
    "\n",
    "batch_size = 64\n",
    "lambda_gp = 10.0\n",
    "# Gradient Penalty\n",
    "epsilon = tf.random_uniform(shape=[batch_size,1, 1, 1], minval=0.,maxval=1.)\n",
    "X_hat =  epsilon*X + (1-epsilon) * X_fake #epsilon * X + (1-epsilon) * X_fake\n",
    "D_X_hat = discriminator_cnn(X_hat, reuse=True)\n",
    "grad_D_X_hat = tf.gradients(D_X_hat, [X_fake])[0]\n",
    "reduction_indexes = [1]\n",
    "slopes = tf.sqrt(tf.reduce_sum(tf.square(grad_D_X_hat)))\n",
    "gradient_penalty = tf.reduce_mean((slopes - 1.) ** 2)\n",
    "D_loss += lambda_gp * gradient_penalty"
   ]
  },
  {
   "cell_type": "code",
   "execution_count": 156,
   "metadata": {},
   "outputs": [],
   "source": [
    "G_variables = tf.get_collection(tf.GraphKeys.GLOBAL_VARIABLES,scope=\"GAN/Generator_cnn\")\n",
    "D_variables = tf.get_collection(tf.GraphKeys.GLOBAL_VARIABLES,scope=\"GAN/Discriminator_cnn\")\n",
    "\n",
    "G_step = tf.train.AdamOptimizer(learning_rate=0.0001, beta1=0.5, beta2=0.9).minimize(G_loss,var_list = G_variables)\n",
    "D_step = tf.train.AdamOptimizer(learning_rate=0.0001, beta1=0.5, beta2=0.9).minimize(D_loss,var_list = D_variables)"
   ]
  },
  {
   "cell_type": "code",
   "execution_count": 157,
   "metadata": {
    "scrolled": true
   },
   "outputs": [
    {
     "name": "stdout",
     "output_type": "stream",
     "text": [
      "Iterations: 0\t Discriminator loss: 7.7138\t Generator loss: -0.5015\n",
      "Iterations: 1\t Discriminator loss: 7.8624\t Generator loss: -0.5227\n",
      "Iterations: 2\t Discriminator loss: 3.2589\t Generator loss: -0.5883\n",
      "Iterations: 3\t Discriminator loss: 3.2236\t Generator loss: -0.6669\n",
      "Iterations: 4\t Discriminator loss: 2.5344\t Generator loss: -0.6632\n",
      "Iterations: 5\t Discriminator loss: 2.7206\t Generator loss: -0.6443\n",
      "Iterations: 6\t Discriminator loss: 3.3909\t Generator loss: -0.6961\n",
      "Iterations: 7\t Discriminator loss: 2.5443\t Generator loss: -0.6440\n",
      "Iterations: 8\t Discriminator loss: 2.8458\t Generator loss: -0.5582\n",
      "Iterations: 9\t Discriminator loss: 3.1451\t Generator loss: -0.5972\n",
      "Iterations: 10\t Discriminator loss: 2.9031\t Generator loss: -0.5536\n",
      "Iterations: 11\t Discriminator loss: 0.7742\t Generator loss: -0.5703\n",
      "Iterations: 12\t Discriminator loss: 0.8841\t Generator loss: -0.5427\n",
      "Iterations: 13\t Discriminator loss: 0.9396\t Generator loss: -0.5377\n",
      "Iterations: 14\t Discriminator loss: 0.8741\t Generator loss: -0.5569\n",
      "Iterations: 15\t Discriminator loss: 0.2662\t Generator loss: -0.5720\n",
      "Iterations: 16\t Discriminator loss: 1.2276\t Generator loss: -0.5300\n",
      "Iterations: 17\t Discriminator loss: 2.3306\t Generator loss: -0.5482\n",
      "Iterations: 18\t Discriminator loss: -0.1740\t Generator loss: -0.6041\n",
      "Iterations: 19\t Discriminator loss: 0.4910\t Generator loss: -0.6030\n",
      "Iterations: 20\t Discriminator loss: 0.9466\t Generator loss: -0.5438\n",
      "Iterations: 21\t Discriminator loss: 0.0133\t Generator loss: -0.5560\n",
      "Iterations: 22\t Discriminator loss: 29.2363\t Generator loss: -0.9493\n",
      "Iterations: 23\t Discriminator loss: 1.7302\t Generator loss: -0.9859\n",
      "Iterations: 24\t Discriminator loss: 4.4518\t Generator loss: -0.9932\n",
      "Iterations: 25\t Discriminator loss: 1.9604\t Generator loss: -0.9942\n",
      "Iterations: 26\t Discriminator loss: 4.1931\t Generator loss: -0.9939\n",
      "Iterations: 27\t Discriminator loss: 1.7188\t Generator loss: -0.9937\n",
      "Iterations: 28\t Discriminator loss: 3.2518\t Generator loss: -0.9948\n",
      "Iterations: 29\t Discriminator loss: 1.2658\t Generator loss: -0.9941\n",
      "Iterations: 30\t Discriminator loss: 4.1565\t Generator loss: -0.9934\n",
      "Iterations: 31\t Discriminator loss: 4.4183\t Generator loss: -0.9935\n",
      "Iterations: 32\t Discriminator loss: 7.2255\t Generator loss: -0.9884\n",
      "Iterations: 33\t Discriminator loss: 1.1323\t Generator loss: -0.9860\n",
      "Iterations: 34\t Discriminator loss: 0.9949\t Generator loss: -0.9843\n",
      "Iterations: 35\t Discriminator loss: 1.0717\t Generator loss: -0.9916\n",
      "Iterations: 36\t Discriminator loss: 0.9724\t Generator loss: -0.9947\n",
      "Iterations: 37\t Discriminator loss: 1.1378\t Generator loss: -0.9888\n",
      "Iterations: 38\t Discriminator loss: 1.0341\t Generator loss: -0.9876\n",
      "Iterations: 39\t Discriminator loss: 1.1262\t Generator loss: -0.9953\n",
      "Iterations: 40\t Discriminator loss: 0.9174\t Generator loss: -0.9964\n",
      "Iterations: 41\t Discriminator loss: 2.4237\t Generator loss: -0.9952\n",
      "Iterations: 42\t Discriminator loss: 1.1266\t Generator loss: -0.9961\n",
      "Iterations: 43\t Discriminator loss: 0.7918\t Generator loss: -0.9977\n",
      "Iterations: 44\t Discriminator loss: 0.9046\t Generator loss: -0.9969\n",
      "Iterations: 45\t Discriminator loss: 1.4768\t Generator loss: -0.9866\n",
      "Iterations: 46\t Discriminator loss: 1.6093\t Generator loss: -0.9215\n",
      "Iterations: 47\t Discriminator loss: 1.1268\t Generator loss: -0.7454\n",
      "Iterations: 48\t Discriminator loss: 1.7642\t Generator loss: -0.5785\n",
      "Iterations: 49\t Discriminator loss: 1.4933\t Generator loss: -0.6029\n",
      "Iterations: 50\t Discriminator loss: 1.1588\t Generator loss: -0.6320\n",
      "Iterations: 51\t Discriminator loss: 0.9502\t Generator loss: -0.6116\n",
      "Iterations: 52\t Discriminator loss: 1.1151\t Generator loss: -0.6110\n",
      "Iterations: 53\t Discriminator loss: 0.3776\t Generator loss: -0.8273\n",
      "Iterations: 54\t Discriminator loss: 1.9721\t Generator loss: -0.7728\n",
      "Iterations: 55\t Discriminator loss: 2.6645\t Generator loss: -0.6428\n",
      "Iterations: 56\t Discriminator loss: 1.3196\t Generator loss: -0.5737\n",
      "Iterations: 57\t Discriminator loss: 0.4541\t Generator loss: -0.5876\n",
      "Iterations: 58\t Discriminator loss: 0.1879\t Generator loss: -0.6204\n",
      "Iterations: 59\t Discriminator loss: -0.0756\t Generator loss: -0.7148\n"
     ]
    },
    {
     "name": "stderr",
     "output_type": "stream",
     "text": [
      "Clipping input data to the valid range for imshow with RGB data ([0..1] for floats or [0..255] for integers).\n"
     ]
    },
    {
     "data": {
      "text/plain": [
       "<matplotlib.image.AxesImage at 0x1dfd21071d0>"
      ]
     },
     "execution_count": 157,
     "metadata": {},
     "output_type": "execute_result"
    },
    {
     "data": {
      "image/png": "[encoded data removed]",
      "text/plain": [
       "<Figure size 432x288 with 1 Axes>"
      ]
     },
     "metadata": {
      "needs_background": "light"
     },
     "output_type": "display_data"
    }
   ],
   "source": [
    "sess = tf.Session()\n",
    "tf.global_variables_initializer().run(session=sess)\n",
    "\n",
    "\n",
    "\n",
    "#dataset = get_data_normalized(1000)\n",
    "\n",
    "for i in range(60):\n",
    "    X_batch = get_batch(batch_size)\n",
    "    Z_batch = sample_Z(batch_size, 128)\n",
    "    for critic_iter in range(5):\n",
    "        Z_batch = sample_Z(batch_size, 128)\n",
    "        # Update Discriminator\n",
    "        _, dloss = sess.run([D_step, D_loss], feed_dict={X: X_batch, Z: Z_batch})\n",
    "    \n",
    "    #_, dloss = sess.run([D_step, D_loss], feed_dict={X: X_batch, Z: Z_batch})\n",
    "    _, gloss = sess.run([G_step, G_loss], feed_dict={Z: Z_batch})\n",
    "\n",
    "    print(\"Iterations: %d\\t Discriminator loss: %.4f\\t Generator loss: %.4f\"%(i,dloss,gloss))\n",
    "\n",
    "Z_batch = sample_Z(1, 128)\n",
    "X_batch = get_batch(1)\n",
    "sess.run(X_fake, feed_dict={X: X_batch, Z: Z_batch})\n",
    "plt.imshow(tf.reshape(X_fake, shape=(64, 64,3)).eval(session=sess, feed_dict={X: X_batch, Z: Z_batch}))"
   ]
  },
  {
   "cell_type": "code",
   "execution_count": 158,
   "metadata": {
    "scrolled": true
   },
   "outputs": [
    {
     "name": "stderr",
     "output_type": "stream",
     "text": [
      "Clipping input data to the valid range for imshow with RGB data ([0..1] for floats or [0..255] for integers).\n"
     ]
    },
    {
     "data": {
      "text/plain": [
       "<matplotlib.image.AxesImage at 0x1dfd310ea90>"
      ]
     },
     "execution_count": 158,
     "metadata": {},
     "output_type": "execute_result"
    },
    {
     "data": {
      "image/png": "[encoded data removed]",
      "text/plain": [
       "<Figure size 432x288 with 1 Axes>"
      ]
     },
     "metadata": {
      "needs_background": "light"
     },
     "output_type": "display_data"
    }
   ],
   "source": [
    "Z_batch = sample_Z(1, 128)\n",
    "X_batch = get_batch(1)\n",
    "sess.run(X_fake, feed_dict={X: X_batch, Z: Z_batch})\n",
    "plt.imshow(tf.reshape(X_fake, shape=(64, 64,3)).eval(session=sess, feed_dict={X: X_batch, Z: Z_batch}))"
   ]
  },
  {
   "cell_type": "code",
   "execution_count": 16,
   "metadata": {},
   "outputs": [
    {
     "ename": "NameError",
     "evalue": "name 'G_sample' is not defined",
     "output_type": "error",
     "traceback": [
      "\u001b[1;31m---------------------------------------------------------------------------\u001b[0m",
      "\u001b[1;31mNameError\u001b[0m                                 Traceback (most recent call last)",
      "\u001b[1;32m<ipython-input-16-aa90b0ae69c8>\u001b[0m in \u001b[0;36m<module>\u001b[1;34m\u001b[0m\n\u001b[0;32m      1\u001b[0m \u001b[0mZ_batch\u001b[0m \u001b[1;33m=\u001b[0m \u001b[0msample_Z\u001b[0m\u001b[1;33m(\u001b[0m\u001b[1;36m1\u001b[0m\u001b[1;33m,\u001b[0m \u001b[1;36m128\u001b[0m\u001b[1;33m)\u001b[0m\u001b[1;33m\u001b[0m\u001b[0m\n\u001b[0;32m      2\u001b[0m \u001b[0mX_batch\u001b[0m \u001b[1;33m=\u001b[0m \u001b[0mget_batch\u001b[0m\u001b[1;33m(\u001b[0m\u001b[1;36m1\u001b[0m\u001b[1;33m)\u001b[0m\u001b[1;33m\u001b[0m\u001b[0m\n\u001b[1;32m----> 3\u001b[1;33m \u001b[0msess\u001b[0m\u001b[1;33m.\u001b[0m\u001b[0mrun\u001b[0m\u001b[1;33m(\u001b[0m\u001b[0mG_sample\u001b[0m\u001b[1;33m,\u001b[0m \u001b[0mfeed_dict\u001b[0m\u001b[1;33m=\u001b[0m\u001b[1;33m{\u001b[0m\u001b[0mX\u001b[0m\u001b[1;33m:\u001b[0m \u001b[0mX_batch\u001b[0m\u001b[1;33m,\u001b[0m \u001b[0mZ\u001b[0m\u001b[1;33m:\u001b[0m \u001b[0mZ_batch\u001b[0m\u001b[1;33m}\u001b[0m\u001b[1;33m)\u001b[0m\u001b[1;33m\u001b[0m\u001b[0m\n\u001b[0m\u001b[0;32m      4\u001b[0m \u001b[0mplt\u001b[0m\u001b[1;33m.\u001b[0m\u001b[0mimshow\u001b[0m\u001b[1;33m(\u001b[0m\u001b[0mtf\u001b[0m\u001b[1;33m.\u001b[0m\u001b[0mreshape\u001b[0m\u001b[1;33m(\u001b[0m\u001b[0mG_sample\u001b[0m\u001b[1;33m,\u001b[0m \u001b[0mshape\u001b[0m\u001b[1;33m=\u001b[0m\u001b[1;33m(\u001b[0m\u001b[1;36m64\u001b[0m\u001b[1;33m,\u001b[0m \u001b[1;36m64\u001b[0m\u001b[1;33m,\u001b[0m\u001b[1;36m3\u001b[0m\u001b[1;33m)\u001b[0m\u001b[1;33m)\u001b[0m\u001b[1;33m.\u001b[0m\u001b[0meval\u001b[0m\u001b[1;33m(\u001b[0m\u001b[0msession\u001b[0m\u001b[1;33m=\u001b[0m\u001b[0msess\u001b[0m\u001b[1;33m,\u001b[0m \u001b[0mfeed_dict\u001b[0m\u001b[1;33m=\u001b[0m\u001b[1;33m{\u001b[0m\u001b[0mX\u001b[0m\u001b[1;33m:\u001b[0m \u001b[0mX_batch\u001b[0m\u001b[1;33m,\u001b[0m \u001b[0mZ\u001b[0m\u001b[1;33m:\u001b[0m \u001b[0mZ_batch\u001b[0m\u001b[1;33m}\u001b[0m\u001b[1;33m)\u001b[0m\u001b[1;33m)\u001b[0m\u001b[1;33m\u001b[0m\u001b[0m\n",
      "\u001b[1;31mNameError\u001b[0m: name 'G_sample' is not defined"
     ]
    }
   ],
   "source": [
    "Z_batch = sample_Z(1, 128)\n",
    "X_batch = get_batch(1)\n",
    "sess.run(G_sample, feed_dict={X: X_batch, Z: Z_batch})\n",
    "plt.imshow(tf.reshape(G_sample, shape=(64, 64,3)).eval(session=sess, feed_dict={X: X_batch, Z: Z_batch}))"
   ]
  },
  {
   "cell_type": "code",
   "execution_count": 17,
   "metadata": {},
   "outputs": [
    {
     "ename": "NameError",
     "evalue": "name 'G_sample' is not defined",
     "output_type": "error",
     "traceback": [
      "\u001b[1;31m---------------------------------------------------------------------------\u001b[0m",
      "\u001b[1;31mNameError\u001b[0m                                 Traceback (most recent call last)",
      "\u001b[1;32m<ipython-input-17-aa90b0ae69c8>\u001b[0m in \u001b[0;36m<module>\u001b[1;34m\u001b[0m\n\u001b[0;32m      1\u001b[0m \u001b[0mZ_batch\u001b[0m \u001b[1;33m=\u001b[0m \u001b[0msample_Z\u001b[0m\u001b[1;33m(\u001b[0m\u001b[1;36m1\u001b[0m\u001b[1;33m,\u001b[0m \u001b[1;36m128\u001b[0m\u001b[1;33m)\u001b[0m\u001b[1;33m\u001b[0m\u001b[0m\n\u001b[0;32m      2\u001b[0m \u001b[0mX_batch\u001b[0m \u001b[1;33m=\u001b[0m \u001b[0mget_batch\u001b[0m\u001b[1;33m(\u001b[0m\u001b[1;36m1\u001b[0m\u001b[1;33m)\u001b[0m\u001b[1;33m\u001b[0m\u001b[0m\n\u001b[1;32m----> 3\u001b[1;33m \u001b[0msess\u001b[0m\u001b[1;33m.\u001b[0m\u001b[0mrun\u001b[0m\u001b[1;33m(\u001b[0m\u001b[0mG_sample\u001b[0m\u001b[1;33m,\u001b[0m \u001b[0mfeed_dict\u001b[0m\u001b[1;33m=\u001b[0m\u001b[1;33m{\u001b[0m\u001b[0mX\u001b[0m\u001b[1;33m:\u001b[0m \u001b[0mX_batch\u001b[0m\u001b[1;33m,\u001b[0m \u001b[0mZ\u001b[0m\u001b[1;33m:\u001b[0m \u001b[0mZ_batch\u001b[0m\u001b[1;33m}\u001b[0m\u001b[1;33m)\u001b[0m\u001b[1;33m\u001b[0m\u001b[0m\n\u001b[0m\u001b[0;32m      4\u001b[0m \u001b[0mplt\u001b[0m\u001b[1;33m.\u001b[0m\u001b[0mimshow\u001b[0m\u001b[1;33m(\u001b[0m\u001b[0mtf\u001b[0m\u001b[1;33m.\u001b[0m\u001b[0mreshape\u001b[0m\u001b[1;33m(\u001b[0m\u001b[0mG_sample\u001b[0m\u001b[1;33m,\u001b[0m \u001b[0mshape\u001b[0m\u001b[1;33m=\u001b[0m\u001b[1;33m(\u001b[0m\u001b[1;36m64\u001b[0m\u001b[1;33m,\u001b[0m \u001b[1;36m64\u001b[0m\u001b[1;33m,\u001b[0m\u001b[1;36m3\u001b[0m\u001b[1;33m)\u001b[0m\u001b[1;33m)\u001b[0m\u001b[1;33m.\u001b[0m\u001b[0meval\u001b[0m\u001b[1;33m(\u001b[0m\u001b[0msession\u001b[0m\u001b[1;33m=\u001b[0m\u001b[0msess\u001b[0m\u001b[1;33m,\u001b[0m \u001b[0mfeed_dict\u001b[0m\u001b[1;33m=\u001b[0m\u001b[1;33m{\u001b[0m\u001b[0mX\u001b[0m\u001b[1;33m:\u001b[0m \u001b[0mX_batch\u001b[0m\u001b[1;33m,\u001b[0m \u001b[0mZ\u001b[0m\u001b[1;33m:\u001b[0m \u001b[0mZ_batch\u001b[0m\u001b[1;33m}\u001b[0m\u001b[1;33m)\u001b[0m\u001b[1;33m)\u001b[0m\u001b[1;33m\u001b[0m\u001b[0m\n",
      "\u001b[1;31mNameError\u001b[0m: name 'G_sample' is not defined"
     ]
    }
   ],
   "source": [
    "Z_batch = sample_Z(1, 128)\n",
    "X_batch = get_batch(1)\n",
    "sess.run(G_sample, feed_dict={X: X_batch, Z: Z_batch})\n",
    "plt.imshow(tf.reshape(G_sample, shape=(64, 64,3)).eval(session=sess, feed_dict={X: X_batch, Z: Z_batch}))"
   ]
  },
  {
   "cell_type": "code",
   "execution_count": null,
   "metadata": {},
   "outputs": [],
   "source": []
  },
  {
   "cell_type": "code",
   "execution_count": null,
   "metadata": {},
   "outputs": [],
   "source": []
  }
 ],
 "metadata": {
  "kernelspec": {
   "display_name": "Python 3",
   "language": "python",
   "name": "python3"
  },
  "language_info": {
   "codemirror_mode": {
    "name": "ipython",
    "version": 3
   },
   "file_extension": ".py",
   "mimetype": "text/x-python",
   "name": "python",
   "nbconvert_exporter": "python",
   "pygments_lexer": "ipython3",
   "version": "3.5.2"
  }
 },
 "nbformat": 4,
 "nbformat_minor": 2
}
